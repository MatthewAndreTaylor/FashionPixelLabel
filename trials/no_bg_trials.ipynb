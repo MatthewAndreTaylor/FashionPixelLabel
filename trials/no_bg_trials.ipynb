{
 "cells": [
  {
   "cell_type": "code",
   "execution_count": null,
   "metadata": {},
   "outputs": [],
   "source": [
    "import torch\n",
    "from loss import CrossEntropyLoss\n",
    "from ImageDataset import ImageSet, DeviceDataLoader\n",
    "from model import DeepLabv3\n",
    "from trainers import fit\n",
    "from utils import remove_small_artifacts\n",
    "import matplotlib.image\n",
    "\n",
    "\n",
    "best_model = torch.load(\"saved_models/DeepLabv3_plus_2.pt\")\n",
    "best_model.eval()\n",
    "\n",
    "# I will try to remove the background of the images to make a new dataset that is possibly easier to train on\n",
    "image_dir = \"data/images\"\n",
    "label_dir = \"data/labels/person\"\n",
    "\n",
    "MyPeopleSet = ImageSet(image_dir, label_dir)\n",
    "\n",
    "for index, image_tensor, label in MyPeopleSet:\n",
    "    image = MyPeopleSet.images[index]\n",
    "    image_tensor = image_tensor.unsqueeze(0)\n",
    "    pred_mask = best_model(image_tensor.cuda())\n",
    "    pred_mask = pred_mask.argmax(dim=1).cpu().numpy()[0]\n",
    "    pred_mask = remove_small_artifacts(pred_mask)\n",
    "    image[pred_mask == 0] = [0, 0, 0]\n",
    "\n",
    "    matplotlib.image.imsave(f\"data/no_bg/mask_{(index+1):04d}.png\", image)"
   ]
  },
  {
   "cell_type": "code",
   "execution_count": null,
   "metadata": {},
   "outputs": [],
   "source": [
    "MyPeopleNoBgSet = ImageSet(\"data/no_bg\", \"data/labels/clothes\", label_type=\"multi\")\n",
    "\n",
    "# Set the seed for the random split\n",
    "torch.manual_seed(42)\n",
    "train, val, test = torch.utils.data.random_split(MyPeopleNoBgSet, (0.5, 0.1, 0.4))\n",
    "train_loader = DeviceDataLoader(train, batch_size=8, shuffle=True)\n",
    "val_loader = DeviceDataLoader(val, batch_size=8, shuffle=False)\n",
    "test_loader = DeviceDataLoader(test, batch_size=1, shuffle=False)\n",
    "\n",
    "loss = CrossEntropyLoss()\n",
    "model = DeepLabv3(7)\n",
    "if torch.cuda.is_available():\n",
    "    model.cuda()\n",
    "\n",
    "fit(\n",
    "    30,\n",
    "    torch.optim.Adam,\n",
    "    model,\n",
    "    loss,\n",
    "    0.00005,\n",
    "    train_loader,\n",
    "    val_loader,\n",
    "    torch.optim.lr_scheduler.ReduceLROnPlateau,\n",
    ")"
   ]
  },
  {
   "cell_type": "code",
   "execution_count": null,
   "metadata": {},
   "outputs": [],
   "source": [
    "best_model = torch.load(\"saved_models/DeepLabv3_7.pt\")\n",
    "best_model.eval()"
   ]
  },
  {
   "cell_type": "code",
   "execution_count": null,
   "metadata": {},
   "outputs": [],
   "source": [
    "def calculate_accuracy(model, test_loader):\n",
    "    \"\"\"Calculate the accuracy of the model on the test set.\"\"\"\n",
    "    correct_pixels = 0\n",
    "    total_pixels = 0\n",
    "\n",
    "    for idx, images, labels in test_loader:\n",
    "        with torch.no_grad():\n",
    "            predicted_masks = model(images)\n",
    "            predicted_masks = torch.argmax(predicted_masks, dim=1)\n",
    "            correct_pixels += torch.sum(predicted_masks == labels).item()\n",
    "            total_pixels += torch.numel(labels)\n",
    "\n",
    "    return correct_pixels / total_pixels\n",
    "\n",
    "\n",
    "accuracy = calculate_accuracy(best_model, test_loader)\n",
    "print(f\"Test Accuracy: {accuracy}\")"
   ]
  },
  {
   "cell_type": "code",
   "execution_count": null,
   "metadata": {},
   "outputs": [],
   "source": [
    "# Seems that removing the background and retaining only the person in the image has similar results as before"
   ]
  }
 ],
 "metadata": {
  "language_info": {
   "name": "python"
  }
 },
 "nbformat": 4,
 "nbformat_minor": 2
}
